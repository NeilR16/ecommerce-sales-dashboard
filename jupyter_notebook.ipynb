{
 "cells": [
  {
   "cell_type": "markdown",
   "id": "78cd3168",
   "metadata": {},
   "source": [
    "# E-commerce Sales Analysis Dashboard\n",
    "Analyze sales, customer behavior, and product performance using Python."
   ]
  },
  {
   "cell_type": "code",
   "execution_count": null,
   "id": "448eb58e",
   "metadata": {
    "vscode": {
     "languageId": "plaintext"
    }
   },
   "outputs": [],
   "source": [
    "import pandas as pd\n",
    "import numpy as np\n",
    "import matplotlib.pyplot as plt\n",
    "import seaborn as sns\n",
    "\n",
    "%matplotlib inline \n",
    "sns.set_style('darkgrid')"
   ]
  }
 ],
 "metadata": {
  "language_info": {
   "name": "python"
  }
 },
 "nbformat": 4,
 "nbformat_minor": 5
}
